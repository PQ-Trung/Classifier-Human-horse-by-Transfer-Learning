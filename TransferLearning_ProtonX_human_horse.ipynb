{
  "nbformat": 4,
  "nbformat_minor": 0,
  "metadata": {
    "colab": {
      "name": "TransferLearning_ProtonX.ipynb",
      "provenance": [],
      "collapsed_sections": []
    },
    "kernelspec": {
      "name": "python3",
      "display_name": "Python 3"
    },
    "accelerator": "GPU"
  },
  "cells": [
    {
      "cell_type": "code",
      "metadata": {
        "id": "oYR8_HOva_Kn",
        "colab_type": "code",
        "outputId": "ff5f091e-52b9-4556-c04a-7cc20fb3eb65",
        "colab": {
          "base_uri": "https://localhost:8080/",
          "height": 35
        }
      },
      "source": [
        "cd /content/drive/My Drive/Colab Notebooks/ProtonX-TransferLearning-Human-Horse"
      ],
      "execution_count": 23,
      "outputs": [
        {
          "output_type": "stream",
          "text": [
            "/content/drive/My Drive/Colab Notebooks/ProtonX-TransferLearning-Human-Horse\n"
          ],
          "name": "stdout"
        }
      ]
    },
    {
      "cell_type": "code",
      "metadata": {
        "id": "CjVl8cg9bkc7",
        "colab_type": "code",
        "colab": {}
      },
      "source": [
        "main_folder = './'\n",
        "train_folder = './train/'\n",
        "validation_folder = './validation/'"
      ],
      "execution_count": 0,
      "outputs": []
    },
    {
      "cell_type": "code",
      "metadata": {
        "id": "WwfyxdGwbt5K",
        "colab_type": "code",
        "colab": {}
      },
      "source": [
        "# !unzip -q horse-or-human.zip -d $train_folder\n",
        "# !unzip -q validation-horse-or-human.zip -d $validation_folder"
      ],
      "execution_count": 0,
      "outputs": []
    },
    {
      "cell_type": "code",
      "metadata": {
        "id": "q1kcZtzpeEI3",
        "colab_type": "code",
        "colab": {}
      },
      "source": [
        "from tensorflow.keras.applications.inception_v3 import InceptionV3\n",
        "\n",
        "local_weights_file = '/content/drive/My Drive/Colab Notebooks/ProtonX-TransferLearning-Human-Horse/inception_v3_weights_tf_dim_ordering_tf_kernels_notop.h5'"
      ],
      "execution_count": 0,
      "outputs": []
    },
    {
      "cell_type": "code",
      "metadata": {
        "id": "D3Gmgb3SfSVH",
        "colab_type": "code",
        "colab": {}
      },
      "source": [
        "import os\n",
        "import tensorflow as tf\n",
        "import numpy as np\n",
        "from tensorflow.keras.layers import Flatten, Input, Dense, Dropout\n",
        "from tensorflow.keras.optimizers import RMSprop"
      ],
      "execution_count": 0,
      "outputs": []
    },
    {
      "cell_type": "code",
      "metadata": {
        "id": "J2e9nMCKfs3l",
        "colab_type": "code",
        "colab": {}
      },
      "source": [
        "pre_trained_model = InceptionV3(include_top=False, weights = None,\n",
        "                                input_shape = (200,200,3))\n",
        "pre_trained_model.load_weights(local_weights_file)"
      ],
      "execution_count": 0,
      "outputs": []
    },
    {
      "cell_type": "code",
      "metadata": {
        "id": "V2LQZuamf-mC",
        "colab_type": "code",
        "colab": {}
      },
      "source": [
        "# Data Preprocessing\n",
        "\n",
        "from tensorflow.keras.preprocessing.image import ImageDataGenerator\n",
        "\n",
        "train_generator = ImageDataGenerator(rescale = 1.0/255.0, \n",
        "                                    rotation_range= 0.2, zoom_range = 0.1,\n",
        "                                    # samplewise_center=True, samplewise_std_normalization=True,\n",
        "                                    width_shift_range = 0.2, height_shift_range = 0.2,\n",
        "                                    horizontal_flip = True)\n",
        "\n",
        "valid_generator = ImageDataGenerator(rescale = 1.0/255.0,\n",
        "      # samplewise_center=True, samplewise_std_normalization=True,\n",
        "      )"
      ],
      "execution_count": 0,
      "outputs": []
    },
    {
      "cell_type": "code",
      "metadata": {
        "id": "qcOXiAobgsD6",
        "colab_type": "code",
        "colab": {}
      },
      "source": [
        "size_image = (200,200)\n",
        "batch_size = 32"
      ],
      "execution_count": 0,
      "outputs": []
    },
    {
      "cell_type": "code",
      "metadata": {
        "id": "YT1dy7C2hEzT",
        "colab_type": "code",
        "outputId": "db312d93-14a8-4af3-feff-5a034511a177",
        "colab": {
          "base_uri": "https://localhost:8080/",
          "height": 53
        }
      },
      "source": [
        "train_generator_data = train_generator.flow_from_directory(\n",
        "    train_folder, target_size = size_image , batch_size = batch_size, shuffle = True,\n",
        "    class_mode = 'binary')\n",
        "\n",
        "valid_generator_data = valid_generator.flow_from_directory(\n",
        "    validation_folder, target_size = size_image, batch_size = batch_size,\n",
        "    class_mode = 'binary')"
      ],
      "execution_count": 31,
      "outputs": [
        {
          "output_type": "stream",
          "text": [
            "Found 1027 images belonging to 2 classes.\n",
            "Found 256 images belonging to 2 classes.\n"
          ],
          "name": "stdout"
        }
      ]
    },
    {
      "cell_type": "code",
      "metadata": {
        "id": "WKGo5TcBhMqG",
        "colab_type": "code",
        "colab": {
          "base_uri": "https://localhost:8080/",
          "height": 1000
        },
        "outputId": "d8e14759-ed57-4f73-8eab-73d3396095f1"
      },
      "source": [
        "train_generator_data[0][0]"
      ],
      "execution_count": 32,
      "outputs": [
        {
          "output_type": "execute_result",
          "data": {
            "text/plain": [
              "array([[[[0.56995225, 0.49130008, 0.43348935],\n",
              "         [0.57008106, 0.49140745, 0.43356806],\n",
              "         [0.5702099 , 0.49151483, 0.43364683],\n",
              "         ...,\n",
              "         [0.20727615, 0.22012612, 0.19977583],\n",
              "         [0.26793793, 0.27696177, 0.22427401],\n",
              "         [0.30361405, 0.35328418, 0.35657266]],\n",
              "\n",
              "        [[0.56674874, 0.4843958 , 0.42165068],\n",
              "         [0.56667715, 0.4843242 , 0.4215791 ],\n",
              "         [0.56660557, 0.48425263, 0.42150754],\n",
              "         ...,\n",
              "         [0.2881074 , 0.3215278 , 0.31769243],\n",
              "         [0.36326045, 0.37562796, 0.2878886 ],\n",
              "         [0.38960296, 0.41347927, 0.33578578]],\n",
              "\n",
              "        [[0.49788707, 0.4107468 , 0.3432144 ],\n",
              "         [0.49772245, 0.41056788, 0.34302115],\n",
              "         [0.49755782, 0.41038892, 0.3428279 ],\n",
              "         ...,\n",
              "         [0.37346652, 0.3782014 , 0.25259614],\n",
              "         [0.4087569 , 0.41672927, 0.2853387 ],\n",
              "         [0.43538398, 0.44495913, 0.30928674]],\n",
              "\n",
              "        ...,\n",
              "\n",
              "        [[0.5568628 , 0.48235297, 0.41176474],\n",
              "         [0.5568628 , 0.48235297, 0.41176474],\n",
              "         [0.5568628 , 0.48235297, 0.41176474],\n",
              "         ...,\n",
              "         [0.5788149 , 0.5068201 , 0.45051154],\n",
              "         [0.5995109 , 0.5164353 , 0.44904605],\n",
              "         [0.6685447 , 0.5709357 , 0.48901302]],\n",
              "\n",
              "        [[0.5568628 , 0.48235297, 0.41176474],\n",
              "         [0.5568628 , 0.48235297, 0.41176474],\n",
              "         [0.5568628 , 0.48235297, 0.41176474],\n",
              "         ...,\n",
              "         [0.57877773, 0.5068052 , 0.450519  ],\n",
              "         [0.5993696 , 0.51632375, 0.44896427],\n",
              "         [0.66840345, 0.5708242 , 0.4889312 ]],\n",
              "\n",
              "        [[0.5568628 , 0.48235297, 0.41176474],\n",
              "         [0.5568628 , 0.48235297, 0.41176474],\n",
              "         [0.5568628 , 0.48235297, 0.41176474],\n",
              "         ...,\n",
              "         [0.5787406 , 0.5067904 , 0.45052642],\n",
              "         [0.5992283 , 0.5162122 , 0.44888246],\n",
              "         [0.6682622 , 0.5707127 , 0.4888494 ]]],\n",
              "\n",
              "\n",
              "       [[[0.82075816, 0.8950076 , 1.        ],\n",
              "         [0.81793994, 0.89244974, 1.        ],\n",
              "         [0.8176659 , 0.89217573, 0.99811   ],\n",
              "         ...,\n",
              "         [0.6325849 , 0.77647066, 0.9924415 ],\n",
              "         [0.6325866 , 0.77647066, 0.99243647],\n",
              "         [0.63258827, 0.77647066, 0.9924315 ]],\n",
              "\n",
              "        [[0.82777333, 0.9013868 , 1.        ],\n",
              "         [0.8021819 , 0.8746558 , 0.98574895],\n",
              "         [0.78655   , 0.86181855, 0.97806144],\n",
              "         ...,\n",
              "         [0.628637  , 0.7792062 , 0.99881405],\n",
              "         [0.6286387 , 0.77920455, 0.9988124 ],\n",
              "         [0.6286403 , 0.77920294, 0.99881077]],\n",
              "\n",
              "        [[0.8072354 , 0.8805984 , 0.98765343],\n",
              "         [0.78945297, 0.8613508 , 0.97348577],\n",
              "         [0.7763321 , 0.8518187 , 0.9663824 ],\n",
              "         ...,\n",
              "         [0.627451  , 0.7803922 , 1.        ],\n",
              "         [0.627451  , 0.7803922 , 1.        ],\n",
              "         [0.627451  , 0.7803922 , 1.        ]],\n",
              "\n",
              "        ...,\n",
              "\n",
              "        [[0.8862746 , 0.76470596, 0.6689699 ],\n",
              "         [0.883325  , 0.7676555 , 0.679437  ],\n",
              "         [0.87677944, 0.76305395, 0.67399263],\n",
              "         ...,\n",
              "         [0.8313726 , 0.7176471 , 0.6       ],\n",
              "         [0.8313726 , 0.7176471 , 0.6       ],\n",
              "         [0.8313726 , 0.7176471 , 0.6       ]],\n",
              "\n",
              "        [[0.8862746 , 0.76470596, 0.6689733 ],\n",
              "         [0.88332325, 0.7676572 , 0.6794422 ],\n",
              "         [0.876776  , 0.7630505 , 0.67398745],\n",
              "         ...,\n",
              "         [0.8313726 , 0.7176471 , 0.6       ],\n",
              "         [0.8313726 , 0.7176471 , 0.6       ],\n",
              "         [0.8313726 , 0.7176471 , 0.6       ]],\n",
              "\n",
              "        [[0.8862746 , 0.76470596, 0.66897684],\n",
              "         [0.8833215 , 0.76765895, 0.6794474 ],\n",
              "         [0.8767725 , 0.76304704, 0.6739823 ],\n",
              "         ...,\n",
              "         [0.8313726 , 0.7176471 , 0.6       ],\n",
              "         [0.8313726 , 0.7176471 , 0.6       ],\n",
              "         [0.8313726 , 0.7176471 , 0.6       ]]],\n",
              "\n",
              "\n",
              "       [[[0.20784315, 0.20784315, 0.16470589],\n",
              "         [0.20784315, 0.20784315, 0.16470589],\n",
              "         [0.20784315, 0.20784315, 0.16470589],\n",
              "         ...,\n",
              "         [0.511674  , 0.42508778, 0.3563045 ],\n",
              "         [0.31811622, 0.27308914, 0.22641394],\n",
              "         [0.18814737, 0.17838742, 0.14768311]],\n",
              "\n",
              "        [[0.20784315, 0.20784315, 0.16470589],\n",
              "         [0.20784315, 0.20784315, 0.16470589],\n",
              "         [0.20784315, 0.20784315, 0.16470589],\n",
              "         ...,\n",
              "         [0.51155204, 0.42498615, 0.356213  ],\n",
              "         [0.3185279 , 0.27341446, 0.22669347],\n",
              "         [0.18820836, 0.1784179 , 0.14770344]],\n",
              "\n",
              "        [[0.18892597, 0.18892597, 0.15254484],\n",
              "         [0.18885997, 0.18885997, 0.15250242],\n",
              "         [0.18879397, 0.18879397, 0.15246   ],\n",
              "         ...,\n",
              "         [0.49558663, 0.4090411 , 0.33958998],\n",
              "         [0.3139114 , 0.26716956, 0.21966021],\n",
              "         [0.19780485, 0.18436082, 0.15096863]],\n",
              "\n",
              "        ...,\n",
              "\n",
              "        [[0.09693637, 0.07591917, 0.0602329 ],\n",
              "         [0.09695522, 0.0759286 , 0.06024232],\n",
              "         [0.09697408, 0.07593802, 0.06025175],\n",
              "         ...,\n",
              "         [0.4748374 , 0.4096185 , 0.3566154 ],\n",
              "         [0.45676237, 0.39432514, 0.34601885],\n",
              "         [0.4241424 , 0.3659615 , 0.31836736]],\n",
              "\n",
              "        [[0.10545747, 0.07924834, 0.06418298],\n",
              "         [0.10542448, 0.07922477, 0.06416412],\n",
              "         [0.10539147, 0.07920119, 0.06414527],\n",
              "         ...,\n",
              "         [0.44135797, 0.37573665, 0.31997123],\n",
              "         [0.43753797, 0.3688462 , 0.31291556],\n",
              "         [0.44367105, 0.37982327, 0.32932648]],\n",
              "\n",
              "        [[0.08181579, 0.0627451 , 0.05044323],\n",
              "         [0.08181106, 0.0627451 , 0.05043852],\n",
              "         [0.08180635, 0.0627451 , 0.0504338 ],\n",
              "         ...,\n",
              "         [0.4007082 , 0.3398183 , 0.29167584],\n",
              "         [0.40028477, 0.33406016, 0.28107077],\n",
              "         [0.4171055 , 0.35315314, 0.30099228]]],\n",
              "\n",
              "\n",
              "       ...,\n",
              "\n",
              "\n",
              "       [[[0.61102945, 0.7198803 , 0.8924293 ],\n",
              "         [0.6111363 , 0.71999896, 0.89254797],\n",
              "         [0.6112431 , 0.7201176 , 0.8926667 ],\n",
              "         ...,\n",
              "         [0.5294118 , 0.71511084, 0.95294124],\n",
              "         [0.5294118 , 0.71512276, 0.95294124],\n",
              "         [0.5294118 , 0.7151346 , 0.95294124]],\n",
              "\n",
              "        [[0.6545231 , 0.7535839 , 0.92076135],\n",
              "         [0.65467745, 0.7536907 , 0.92084444],\n",
              "         [0.65483177, 0.7537976 , 0.9209275 ],\n",
              "         ...,\n",
              "         [0.5316173 , 0.7187498 , 0.9540439 ],\n",
              "         [0.53197426, 0.71842843, 0.95372254],\n",
              "         [0.53621966, 0.7165043 , 0.9491318 ]],\n",
              "\n",
              "        [[0.69702303, 0.78152806, 0.93662125],\n",
              "         [0.69715357, 0.7816111 , 0.93665695],\n",
              "         [0.69728416, 0.78169423, 0.93669254],\n",
              "         ...,\n",
              "         [0.5372549 , 0.72156864, 0.9576829 ],\n",
              "         [0.5398962 , 0.71991354, 0.9538209 ],\n",
              "         [0.5583628 , 0.7072003 , 0.92313766]],\n",
              "\n",
              "        ...,\n",
              "\n",
              "        [[0.8826088 , 0.7492754 , 0.62424934],\n",
              "         [0.88282245, 0.74948907, 0.62448674],\n",
              "         [0.88303614, 0.74970275, 0.6247242 ],\n",
              "         ...,\n",
              "         [0.75648504, 0.64428353, 0.52499646],\n",
              "         [0.75527686, 0.64485127, 0.52232623],\n",
              "         [0.7548188 , 0.64121115, 0.5225699 ]],\n",
              "\n",
              "        [[0.892713  , 0.7632001 , 0.6492724 ],\n",
              "         [0.8925824 , 0.7630933 , 0.649213  ],\n",
              "         [0.8924519 , 0.7629865 , 0.6491537 ],\n",
              "         ...,\n",
              "         [0.75356686, 0.63975215, 0.52195585],\n",
              "         [0.778583  , 0.6648575 , 0.5374352 ],\n",
              "         [0.76851606, 0.65134835, 0.53141516]],\n",
              "\n",
              "        [[0.8657055 , 0.7434705 , 0.63758814],\n",
              "         [0.86566985, 0.7434586 , 0.6375763 ],\n",
              "         [0.86563426, 0.7434467 , 0.63756436],\n",
              "         ...,\n",
              "         [0.74490815, 0.6301598 , 0.5185123 ],\n",
              "         [0.7757599 , 0.66204774, 0.53649956],\n",
              "         [0.768927  , 0.64895844, 0.5288828 ]]],\n",
              "\n",
              "\n",
              "       [[[0.7713304 , 0.7962203 , 0.83807707],\n",
              "         [0.7710108 , 0.80384624, 0.84961677],\n",
              "         [0.7751444 , 0.81458366, 0.8631924 ],\n",
              "         ...,\n",
              "         [0.7164271 , 0.7740209 , 0.8384798 ],\n",
              "         [0.7163128 , 0.77399546, 0.8384925 ],\n",
              "         [0.71619844, 0.77397007, 0.8385052 ]],\n",
              "\n",
              "        [[0.8027634 , 0.84858316, 0.9007922 ],\n",
              "         [0.79425395, 0.847435  , 0.90246564],\n",
              "         [0.7845235 , 0.8410005 , 0.89726776],\n",
              "         ...,\n",
              "         [0.69674516, 0.7725491 , 0.8424805 ],\n",
              "         [0.69669425, 0.7725491 , 0.8424931 ],\n",
              "         [0.6966435 , 0.7725491 , 0.8425058 ]],\n",
              "\n",
              "        [[0.8020691 , 0.85730404, 0.912206  ],\n",
              "         [0.79480183, 0.85597146, 0.9115117 ],\n",
              "         [0.78807837, 0.85255665, 0.9113802 ],\n",
              "         ...,\n",
              "         [0.6907739 , 0.7725491 , 0.84982485],\n",
              "         [0.6907612 , 0.7725491 , 0.84985024],\n",
              "         [0.6907485 , 0.7725491 , 0.8498756 ]],\n",
              "\n",
              "        ...,\n",
              "\n",
              "        [[0.13342449, 0.12758772, 0.13552202],\n",
              "         [0.1351766 , 0.13125503, 0.14301974],\n",
              "         [0.13333334, 0.1272615 , 0.13902621],\n",
              "         ...,\n",
              "         [0.23529413, 0.19607845, 0.18431373],\n",
              "         [0.23529413, 0.19607845, 0.18431373],\n",
              "         [0.23529413, 0.19607845, 0.18431373]],\n",
              "\n",
              "        [[0.13339904, 0.12754954, 0.13545838],\n",
              "         [0.13518932, 0.13126776, 0.14303246],\n",
              "         [0.13333334, 0.12727425, 0.13903895],\n",
              "         ...,\n",
              "         [0.23529413, 0.19607845, 0.18431373],\n",
              "         [0.23529413, 0.19607845, 0.18431373],\n",
              "         [0.23529413, 0.19607845, 0.18431373]],\n",
              "\n",
              "        [[0.1333736 , 0.12751137, 0.13539475],\n",
              "         [0.13520205, 0.13128048, 0.14304519],\n",
              "         [0.13333334, 0.12728697, 0.13905168],\n",
              "         ...,\n",
              "         [0.23529413, 0.19607845, 0.18431373],\n",
              "         [0.23529413, 0.19607845, 0.18431373],\n",
              "         [0.23529413, 0.19607845, 0.18431373]]],\n",
              "\n",
              "\n",
              "       [[[0.25124526, 0.24818294, 0.18162613],\n",
              "         [0.25104788, 0.24797145, 0.18154153],\n",
              "         [0.25085047, 0.24775997, 0.18145694],\n",
              "         ...,\n",
              "         [0.17285258, 0.1866862 , 0.14364727],\n",
              "         [0.17135555, 0.18907194, 0.151441  ],\n",
              "         [0.20056266, 0.2250849 , 0.1773778 ]],\n",
              "\n",
              "        [[0.23387127, 0.2299497 , 0.18715946],\n",
              "         [0.23384306, 0.22992149, 0.18721586],\n",
              "         [0.23381487, 0.2298933 , 0.18727225],\n",
              "         ...,\n",
              "         [0.14805947, 0.15842684, 0.12290234],\n",
              "         [0.17632781, 0.19619513, 0.15776236],\n",
              "         [0.23733099, 0.2672534 , 0.20455745]],\n",
              "\n",
              "        [[0.2473474 , 0.25027218, 0.19215688],\n",
              "         [0.24744608, 0.25041318, 0.19215688],\n",
              "         [0.24754477, 0.25055414, 0.19215688],\n",
              "         ...,\n",
              "         [0.14087862, 0.15108812, 0.12162639],\n",
              "         [0.21019898, 0.22895153, 0.17629172],\n",
              "         [0.29298863, 0.32037723, 0.24234435]],\n",
              "\n",
              "        ...,\n",
              "\n",
              "        [[0.8313726 , 0.70980394, 0.5921569 ],\n",
              "         [0.8313726 , 0.70980394, 0.5921569 ],\n",
              "         [0.8313726 , 0.70980394, 0.5921569 ],\n",
              "         ...,\n",
              "         [0.88      , 0.7568628 , 0.64627475],\n",
              "         [0.904454  , 0.77726376, 0.6630168 ],\n",
              "         [0.9626388 , 0.84787977, 0.73990744]],\n",
              "\n",
              "        [[0.8313726 , 0.70980394, 0.5921569 ],\n",
              "         [0.8313726 , 0.70980394, 0.5921569 ],\n",
              "         [0.8313726 , 0.70980394, 0.5921569 ],\n",
              "         ...,\n",
              "         [0.8799877 , 0.7568628 , 0.6463116 ],\n",
              "         [0.9042943 , 0.7771163 , 0.66284484],\n",
              "         [0.96244234, 0.84758496, 0.7396003 ]],\n",
              "\n",
              "        [[0.8313726 , 0.70980394, 0.5921569 ],\n",
              "         [0.8313726 , 0.70980394, 0.5921569 ],\n",
              "         [0.8313726 , 0.70980394, 0.5921569 ],\n",
              "         ...,\n",
              "         [0.87997544, 0.7568628 , 0.6463485 ],\n",
              "         [0.90413463, 0.7769689 , 0.6626729 ],\n",
              "         [0.96224576, 0.84729016, 0.7392932 ]]]], dtype=float32)"
            ]
          },
          "metadata": {
            "tags": []
          },
          "execution_count": 32
        }
      ]
    },
    {
      "cell_type": "code",
      "metadata": {
        "id": "9mdvpmgDyLzb",
        "colab_type": "code",
        "colab": {
          "base_uri": "https://localhost:8080/",
          "height": 35
        },
        "outputId": "1bb73539-11be-4e3d-d2f1-cc33633e2321"
      },
      "source": [
        "train_generator_data.class_indices\n",
        "valid_generator_data.class_indices"
      ],
      "execution_count": 33,
      "outputs": [
        {
          "output_type": "execute_result",
          "data": {
            "text/plain": [
              "{'horses': 0, 'humans': 1}"
            ]
          },
          "metadata": {
            "tags": []
          },
          "execution_count": 33
        }
      ]
    },
    {
      "cell_type": "code",
      "metadata": {
        "id": "NSpVeAJUzNra",
        "colab_type": "code",
        "colab": {}
      },
      "source": [
        "pre_trained_model.trainable = True"
      ],
      "execution_count": 0,
      "outputs": []
    },
    {
      "cell_type": "code",
      "metadata": {
        "id": "PDHG3jrmzXKf",
        "colab_type": "code",
        "colab": {
          "base_uri": "https://localhost:8080/",
          "height": 35
        },
        "outputId": "fb273a91-19f9-4f0d-eac5-994fe92dcee2"
      },
      "source": [
        "len(pre_trained_model.trainable_variables)"
      ],
      "execution_count": 35,
      "outputs": [
        {
          "output_type": "execute_result",
          "data": {
            "text/plain": [
              "188"
            ]
          },
          "metadata": {
            "tags": []
          },
          "execution_count": 35
        }
      ]
    },
    {
      "cell_type": "code",
      "metadata": {
        "id": "uIFXEdWi2Tm7",
        "colab_type": "code",
        "colab": {
          "base_uri": "https://localhost:8080/",
          "height": 35
        },
        "outputId": "c01deb86-f9ee-4f50-d9f4-76846f0290d0"
      },
      "source": [
        "len(pre_trained_model.layers)"
      ],
      "execution_count": 36,
      "outputs": [
        {
          "output_type": "execute_result",
          "data": {
            "text/plain": [
              "311"
            ]
          },
          "metadata": {
            "tags": []
          },
          "execution_count": 36
        }
      ]
    },
    {
      "cell_type": "code",
      "metadata": {
        "id": "kJvl28Nkzrp7",
        "colab_type": "code",
        "colab": {}
      },
      "source": [
        "for layer in pre_trained_model.layers[:280]:\n",
        "  layer.trainable = False # Only use last layers from layer 260th"
      ],
      "execution_count": 0,
      "outputs": []
    },
    {
      "cell_type": "code",
      "metadata": {
        "id": "EuDXt0636l85",
        "colab_type": "code",
        "colab": {
          "base_uri": "https://localhost:8080/",
          "height": 35
        },
        "outputId": "51d2892f-edb2-40bc-c7f8-e7f003841771"
      },
      "source": [
        "len(pre_trained_model.trainable_variables)"
      ],
      "execution_count": 38,
      "outputs": [
        {
          "output_type": "execute_result",
          "data": {
            "text/plain": [
              "18"
            ]
          },
          "metadata": {
            "tags": []
          },
          "execution_count": 38
        }
      ]
    },
    {
      "cell_type": "code",
      "metadata": {
        "id": "7O64S4sw0Mkb",
        "colab_type": "code",
        "colab": {}
      },
      "source": [
        "Fl = Flatten()\n",
        "Den = Dense(1024, activation = 'relu')\n",
        "Drop = Dropout(0.2)\n",
        "# global_average_layer = tf.keras.layers.GlobalAveragePooling2D()\n",
        "Out = Dense(1, activation = 'sigmoid')"
      ],
      "execution_count": 0,
      "outputs": []
    },
    {
      "cell_type": "code",
      "metadata": {
        "id": "5jAIS3Wb05Bq",
        "colab_type": "code",
        "colab": {}
      },
      "source": [
        "model = tf.keras.Sequential([pre_trained_model,\n",
        "                             Fl, Den, Drop, Out])"
      ],
      "execution_count": 0,
      "outputs": []
    },
    {
      "cell_type": "code",
      "metadata": {
        "id": "oqvQ7F7i1M1-",
        "colab_type": "code",
        "colab": {}
      },
      "source": [
        "base_learning_rate = 0.0001\n",
        "model.compile(optimizer=tf.keras.optimizers.RMSprop(lr=base_learning_rate),\n",
        "              loss=tf.keras.losses.BinaryCrossentropy(from_logits=True),\n",
        "              metrics=['accuracy'])"
      ],
      "execution_count": 0,
      "outputs": []
    },
    {
      "cell_type": "code",
      "metadata": {
        "id": "a1B4TCvK1Pgu",
        "colab_type": "code",
        "colab": {
          "base_uri": "https://localhost:8080/",
          "height": 341
        },
        "outputId": "a0c4c0c9-f694-4402-8685-88d9e4b914ce"
      },
      "source": [
        "model.summary()"
      ],
      "execution_count": 42,
      "outputs": [
        {
          "output_type": "stream",
          "text": [
            "Model: \"sequential_1\"\n",
            "_________________________________________________________________\n",
            "Layer (type)                 Output Shape              Param #   \n",
            "=================================================================\n",
            "inception_v3 (Model)         (None, 4, 4, 2048)        21802784  \n",
            "_________________________________________________________________\n",
            "flatten_1 (Flatten)          (None, 32768)             0         \n",
            "_________________________________________________________________\n",
            "dense_2 (Dense)              (None, 1024)              33555456  \n",
            "_________________________________________________________________\n",
            "dropout_1 (Dropout)          (None, 1024)              0         \n",
            "_________________________________________________________________\n",
            "dense_3 (Dense)              (None, 1)                 1025      \n",
            "=================================================================\n",
            "Total params: 55,359,265\n",
            "Trainable params: 39,630,017\n",
            "Non-trainable params: 15,729,248\n",
            "_________________________________________________________________\n"
          ],
          "name": "stdout"
        }
      ]
    },
    {
      "cell_type": "code",
      "metadata": {
        "id": "VQA7EL8d1Q_1",
        "colab_type": "code",
        "colab": {}
      },
      "source": [
        "DESIRED_ACCURACY = 0.9950\n",
        "\n",
        "class myCallback(tf.keras.callbacks.Callback):\n",
        "  def on_epoch_end(self, epoch, logs={}):\n",
        "    if(logs.get('val_accuracy')>DESIRED_ACCURACY):\n",
        "      print(\"\\nReached 99.5% accuracy so cancelling training!\")\n",
        "      self.model.stop_training = True\n",
        "\n",
        "callbacks = myCallback()"
      ],
      "execution_count": 0,
      "outputs": []
    },
    {
      "cell_type": "code",
      "metadata": {
        "id": "VAQLR-eV3HLz",
        "colab_type": "code",
        "colab": {
          "base_uri": "https://localhost:8080/",
          "height": 251
        },
        "outputId": "835293f5-b11d-4dcd-c29e-b0c1f38a9440"
      },
      "source": [
        "model.fit(train_generator_data, epochs = 10,\n",
        "          steps_per_epoch = 100,\n",
        "          callbacks = [callbacks], \n",
        "          validation_data = valid_generator_data,\n",
        "          validation_steps = 100,\n",
        "          verbose = 1)"
      ],
      "execution_count": 44,
      "outputs": [
        {
          "output_type": "stream",
          "text": [
            "Epoch 1/10\n",
            "100/100 [==============================] - 61s 611ms/step - loss: 0.5102 - accuracy: 0.9762 - val_loss: 0.5200 - val_accuracy: 0.9762\n",
            "Epoch 2/10\n",
            "100/100 [==============================] - 60s 596ms/step - loss: 0.5010 - accuracy: 0.9942 - val_loss: 0.5104 - val_accuracy: 0.9884\n",
            "Epoch 3/10\n",
            "100/100 [==============================] - 59s 587ms/step - loss: 0.5004 - accuracy: 0.9974 - val_loss: 0.5150 - val_accuracy: 0.9800\n",
            "Epoch 4/10\n",
            "100/100 [==============================] - 58s 580ms/step - loss: 0.4998 - accuracy: 0.9971 - val_loss: 0.5102 - val_accuracy: 0.9884\n",
            "Epoch 5/10\n",
            "100/100 [==============================] - ETA: 0s - loss: 0.4996 - accuracy: 0.9994\n",
            "Reached 99.5% accuracy so cancelling training!\n",
            "100/100 [==============================] - 58s 581ms/step - loss: 0.4996 - accuracy: 0.9994 - val_loss: 0.5038 - val_accuracy: 1.0000\n"
          ],
          "name": "stdout"
        },
        {
          "output_type": "execute_result",
          "data": {
            "text/plain": [
              "<tensorflow.python.keras.callbacks.History at 0x7fd3471335c0>"
            ]
          },
          "metadata": {
            "tags": []
          },
          "execution_count": 44
        }
      ]
    },
    {
      "cell_type": "code",
      "metadata": {
        "id": "NHH4xMKO3fFA",
        "colab_type": "code",
        "colab": {}
      },
      "source": [
        "model.save('human_horse.h5')"
      ],
      "execution_count": 0,
      "outputs": []
    },
    {
      "cell_type": "code",
      "metadata": {
        "id": "FVyV38dvHng_",
        "colab_type": "code",
        "colab": {}
      },
      "source": [
        ""
      ],
      "execution_count": 0,
      "outputs": []
    }
  ]
}